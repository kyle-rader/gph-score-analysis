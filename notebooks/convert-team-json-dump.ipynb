{
 "cells": [
  {
   "cell_type": "code",
   "execution_count": 14,
   "metadata": {
    "collapsed": true,
    "scrolled": true
   },
   "outputs": [],
   "source": [
    "import json\n",
    "import csv\n",
    "from collections import defaultdict\n",
    "\n",
    "team_data_file = \"/data/old-teams.json\"\n",
    "puzzle_data_file = \"/data/puzzle-data.json\"\n",
    "new_team_data_file = \"/data/teams.json\""
   ]
  },
  {
   "cell_type": "code",
   "execution_count": 61,
   "metadata": {
    "scrolled": false
   },
   "outputs": [],
   "source": [
    "team_count = 0\n",
    "teams_with_no_hints = 0\n",
    "teams_with_some_hints = 0\n",
    "teams_with_timeouts = 0\n",
    "total_hints_used = []\n",
    "\n",
    "new_teams = []\n",
    "puzzle_data = defaultdict(lambda: {\n",
    "    \"timeouts\": 0,\n",
    "    \"attempts\": 0,\n",
    "    \"hints_used\": 0\n",
    "})\n",
    "\n",
    "with open(team_data_file, 'r', encoding='utf-8') as f:\n",
    "    data = json.load(f)\n",
    "    \n",
    "    for team in data:\n",
    "        team_count += 1\n",
    "        \n",
    "        team_hints_used = 0\n",
    "        team_timeouts = 0\n",
    "        team_attempts = 0\n",
    "        \n",
    "        for puzzle_attempt in team[\"puzzles\"]:\n",
    "            if puzzle_attempt[\"start\"] == None or puzzle_attempt[\"name\"] == \"Meta Puzzle\":\n",
    "                continue\n",
    "\n",
    "            timeout = 1 if puzzle_attempt.get(\"timedOut\", False) else 0\n",
    "            puzzle_data[puzzle_attempt[\"name\"]][\"attempts\"] += 1\n",
    "            puzzle_data[puzzle_attempt[\"name\"]][\"timeouts\"] += timeout\n",
    "            puzzle_data[puzzle_attempt[\"name\"]][\"hints_used\"] += puzzle_attempt[\"hintsTaken\"]\n",
    "            \n",
    "            team_attempts += 1\n",
    "            team_hints_used += puzzle_attempt[\"hintsTaken\"]\n",
    "            team_timeouts += timeout\n",
    "        \n",
    "        team_data = {\n",
    "            \"hints_used\": team_hints_used,\n",
    "            \"timeouts\": team_timeouts,\n",
    "            \"size\": len(team.get(\"members\")),\n",
    "            \"final_score\": team.get('finalScore'),\n",
    "            \"division\": team.get('division'),\n",
    "        }\n",
    "        \n",
    "        if team_attempts == 4:\n",
    "            new_teams.append(team_data)\n",
    "\n",
    "with open(new_team_data_file, 'w', encoding='utf-8') as f:\n",
    "    json.dump(new_teams, f)\n",
    "    \n",
    "with open(puzzle_data_file, 'w', encoding='utf-8') as f:\n",
    "    json.dump(puzzle_data, f)"
   ]
  }
 ],
 "metadata": {
  "kernelspec": {
   "display_name": "Python 3",
   "language": "python",
   "name": "python3"
  },
  "language_info": {
   "codemirror_mode": {
    "name": "ipython",
    "version": 3
   },
   "file_extension": ".py",
   "mimetype": "text/x-python",
   "name": "python",
   "nbconvert_exporter": "python",
   "pygments_lexer": "ipython3",
   "version": "3.5.2"
  }
 },
 "nbformat": 4,
 "nbformat_minor": 2
}
