{
 "cells": [
  {
   "cell_type": "code",
   "execution_count": 1,
   "metadata": {
    "scrolled": true
   },
   "outputs": [],
   "source": [
    "import json\n",
    "from collections import defaultdict\n",
    "\n",
    "team_data_file = \"/data/teams.json\"\n",
    "puzzle_data_file = \"/data/puzzle-data.json\""
   ]
  },
  {
   "cell_type": "code",
   "execution_count": 2,
   "metadata": {},
   "outputs": [
    {
     "name": "stdout",
     "output_type": "stream",
     "text": [
      "Loaded data for 76 teams\n",
      "Loaded data for 4 puzzles\n"
     ]
    }
   ],
   "source": [
    "teams = None\n",
    "puzzles = None\n",
    "\n",
    "with open(team_data_file, 'r') as f:\n",
    "    teams = json.load(f)\n",
    "    \n",
    "with open(puzzle_data_file, 'r') as f:\n",
    "    puzzles = json.load(f)\n",
    "    \n",
    "print(\"Loaded data for {teams} teams\".format(teams=len(teams)))\n",
    "print(\"Loaded data for {puzzles} puzzles\".format(puzzles=len(puzzles)))"
   ]
  },
  {
   "cell_type": "code",
   "execution_count": 3,
   "metadata": {
    "scrolled": false
   },
   "outputs": [],
   "source": [
    "counts = defaultdict(lambda: {\n",
    "    'team_count': 0,\n",
    "    'teams_with_no_hints': 0,\n",
    "    'teams_with_some_hints': 0,\n",
    "    'teams_with_timeouts': 0,\n",
    "    'hints_used': defaultdict(lambda: 0)\n",
    "})\n",
    "\n",
    "for team in teams:\n",
    "    division = team.get('division')\n",
    "    hints_used = team.get('hints_used')\n",
    "    \n",
    "    counts[division]['team_count'] += 1\n",
    "    counts[division]['hints_used'][hints_used] += 1\n",
    "    \n",
    "    hint_count_key = 'teams_with_no_hints' if hints_used == 0 else 'teams_with_some_hints'\n",
    "    counts[division][hint_count_key] += 1\n",
    "    \n",
    "    if team.get('timeouts') > 0:\n",
    "        counts[division]['teams_with_timeouts'] += 1\n",
    "    \n",
    "\n",
    "for division in counts:\n",
    "    div = counts[division]\n",
    "    div['no_hints_percent'] = div['teams_with_no_hints'] / div['team_count']\n",
    "    div['hints_percent'] = div['teams_with_some_hints'] / div['team_count']\n",
    "    div['timeouts_percent'] = div['teams_with_timeouts'] / div['team_count']\n",
    "    div['teams_with_no_timeouts'] = div['team_count'] - div['teams_with_timeouts']\n",
    "    "
   ]
  },
  {
   "cell_type": "code",
   "execution_count": 4,
   "metadata": {},
   "outputs": [
    {
     "data": {
      "text/html": [
       "<script>requirejs.config({paths: { 'plotly': ['https://cdn.plot.ly/plotly-latest.min']},});if(!window.Plotly) {{require(['plotly'],function(plotly) {window.Plotly=plotly;});}}</script>"
      ],
      "text/vnd.plotly.v1+html": [
       "<script>requirejs.config({paths: { 'plotly': ['https://cdn.plot.ly/plotly-latest.min']},});if(!window.Plotly) {{require(['plotly'],function(plotly) {window.Plotly=plotly;});}}</script>"
      ]
     },
     "metadata": {},
     "output_type": "display_data"
    }
   ],
   "source": [
    "from plotly.offline import iplot, plot, init_notebook_mode\n",
    "import plotly.graph_objs as go\n",
    "init_notebook_mode(connected=True)"
   ]
  },
  {
   "cell_type": "code",
   "execution_count": 5,
   "metadata": {},
   "outputs": [
    {
     "data": {
      "application/vnd.plotly.v1+json": {
       "data": [
        {
         "marker": {
          "size": [
           16,
           16,
           24,
           16,
           24
          ],
          "sizemode": "diameter"
         },
         "mode": "markers",
         "name": "wwu-alumni",
         "type": "scatter",
         "x": [
          2,
          3,
          4,
          0,
          3
         ],
         "y": [
          480,
          202.13333333333333,
          284.1666666666667,
          400.26666666666665,
          269.76666666666665
         ]
        },
        {
         "marker": {
          "size": [
           16,
           16,
           16,
           20,
           24,
           20,
           16,
           16,
           16,
           24,
           24,
           16,
           24,
           24,
           20,
           20,
           16,
           24,
           16,
           24,
           24,
           16,
           16,
           16,
           20,
           20,
           16,
           16,
           24,
           20,
           16,
           20,
           20,
           24,
           24,
           16,
           16,
           16,
           20,
           16
          ],
          "sizemode": "diameter"
         },
         "mode": "markers",
         "name": "open",
         "type": "scatter",
         "x": [
          8,
          0,
          2,
          1,
          2,
          2,
          0,
          7,
          0,
          3,
          7,
          9,
          5,
          11,
          2,
          5,
          12,
          10,
          5,
          2,
          2,
          4,
          1,
          6,
          9,
          4,
          1,
          4,
          0,
          4,
          0,
          11,
          4,
          0,
          11,
          1,
          10,
          4,
          12,
          4
         ],
         "y": [
          275.9166666666667,
          95.6,
          209.23333333333332,
          127.75,
          153.41666666666666,
          330.56666666666666,
          66.53333333333333,
          424.95,
          46.38333333333333,
          258.93333333333334,
          374.76666666666665,
          312.6333333333333,
          310.43333333333334,
          434.6333333333333,
          213.43333333333334,
          291.71666666666664,
          480,
          445.1166666666667,
          312.8833333333333,
          287.73333333333335,
          581.7,
          302.51666666666665,
          185.83333333333334,
          306.03333333333336,
          358.1,
          294.01666666666665,
          74.9,
          480,
          272.93333333333334,
          323.03333333333336,
          58.81666666666667,
          540.35,
          297.26666666666665,
          193.55,
          480.9,
          299.35,
          381.5833333333333,
          315.3833333333333,
          484.6333333333333,
          211.9
         ]
        },
        {
         "marker": {
          "size": [
           24,
           24,
           16,
           20,
           16,
           16,
           16,
           20,
           20,
           16,
           24,
           16,
           20,
           24,
           24,
           24,
           16,
           16,
           24,
           16,
           16,
           20,
           24,
           24,
           16,
           20,
           24,
           16,
           16,
           16,
           16
          ],
          "sizemode": "diameter"
         },
         "mode": "markers",
         "name": "wwu-student",
         "type": "scatter",
         "x": [
          0,
          1,
          4,
          2,
          7,
          3,
          2,
          7,
          4,
          6,
          1,
          5,
          6,
          2,
          2,
          1,
          6,
          5,
          5,
          6,
          3,
          1,
          6,
          2,
          1,
          3,
          3,
          7,
          7,
          12,
          3
         ],
         "y": [
          136,
          147.6,
          387.3,
          140.73333333333332,
          480,
          369.96666666666664,
          131.6,
          296.9166666666667,
          331.46666666666664,
          480,
          177.5,
          480,
          248.8,
          150.2,
          171.68333333333334,
          172.58333333333334,
          263.21666666666664,
          324.85,
          368.71666666666664,
          189.48333333333332,
          480,
          362.18333333333334,
          349,
          128.81666666666666,
          169.48333333333332,
          267.43333333333334,
          176.26666666666668,
          409,
          331,
          451.03333333333336,
          233.91666666666666
         ]
        }
       ],
       "layout": {
        "hovermode": "closest",
        "title": "Team scores (bubble size = team size)",
        "xaxis": {
         "title": "Hints Used"
        },
        "yaxis": {
         "title": "Final Score (minutes)"
        }
       }
      },
      "text/html": [
       "<div id=\"b1daae48-de89-47cc-abcc-c2f0ddd700e0\" style=\"height: 525px; width: 100%;\" class=\"plotly-graph-div\"></div><script type=\"text/javascript\">require([\"plotly\"], function(Plotly) { window.PLOTLYENV=window.PLOTLYENV || {};window.PLOTLYENV.BASE_URL=\"https://plot.ly\";Plotly.newPlot(\"b1daae48-de89-47cc-abcc-c2f0ddd700e0\", [{\"mode\": \"markers\", \"x\": [2, 3, 4, 0, 3], \"marker\": {\"size\": [16, 16, 24, 16, 24], \"sizemode\": \"diameter\"}, \"y\": [480.0, 202.13333333333333, 284.1666666666667, 400.26666666666665, 269.76666666666665], \"name\": \"wwu-alumni\", \"type\": \"scatter\"}, {\"mode\": \"markers\", \"x\": [8, 0, 2, 1, 2, 2, 0, 7, 0, 3, 7, 9, 5, 11, 2, 5, 12, 10, 5, 2, 2, 4, 1, 6, 9, 4, 1, 4, 0, 4, 0, 11, 4, 0, 11, 1, 10, 4, 12, 4], \"marker\": {\"size\": [16, 16, 16, 20, 24, 20, 16, 16, 16, 24, 24, 16, 24, 24, 20, 20, 16, 24, 16, 24, 24, 16, 16, 16, 20, 20, 16, 16, 24, 20, 16, 20, 20, 24, 24, 16, 16, 16, 20, 16], \"sizemode\": \"diameter\"}, \"y\": [275.9166666666667, 95.6, 209.23333333333332, 127.75, 153.41666666666666, 330.56666666666666, 66.53333333333333, 424.95, 46.38333333333333, 258.93333333333334, 374.76666666666665, 312.6333333333333, 310.43333333333334, 434.6333333333333, 213.43333333333334, 291.71666666666664, 480.0, 445.1166666666667, 312.8833333333333, 287.73333333333335, 581.7, 302.51666666666665, 185.83333333333334, 306.03333333333336, 358.1, 294.01666666666665, 74.9, 480.0, 272.93333333333334, 323.03333333333336, 58.81666666666667, 540.35, 297.26666666666665, 193.55, 480.9, 299.35, 381.5833333333333, 315.3833333333333, 484.6333333333333, 211.9], \"name\": \"open\", \"type\": \"scatter\"}, {\"mode\": \"markers\", \"x\": [0, 1, 4, 2, 7, 3, 2, 7, 4, 6, 1, 5, 6, 2, 2, 1, 6, 5, 5, 6, 3, 1, 6, 2, 1, 3.0, 3, 7, 7, 12, 3], \"marker\": {\"size\": [24, 24, 16, 20, 16, 16, 16, 20, 20, 16, 24, 16, 20, 24, 24, 24, 16, 16, 24, 16, 16, 20, 24, 24, 16, 20, 24, 16, 16, 16, 16], \"sizemode\": \"diameter\"}, \"y\": [136.0, 147.6, 387.3, 140.73333333333332, 480.0, 369.96666666666664, 131.6, 296.9166666666667, 331.46666666666664, 480.0, 177.5, 480.0, 248.8, 150.2, 171.68333333333334, 172.58333333333334, 263.21666666666664, 324.85, 368.71666666666664, 189.48333333333332, 480.0, 362.18333333333334, 349.0, 128.81666666666666, 169.48333333333332, 267.43333333333334, 176.26666666666668, 409.0, 331.0, 451.03333333333336, 233.91666666666666], \"name\": \"wwu-student\", \"type\": \"scatter\"}], {\"title\": \"Team scores (bubble size = team size)\", \"xaxis\": {\"title\": \"Hints Used\"}, \"yaxis\": {\"title\": \"Final Score (minutes)\"}, \"hovermode\": \"closest\"}, {\"showLink\": true, \"linkText\": \"Export to plot.ly\"})});</script>"
      ],
      "text/vnd.plotly.v1+html": [
       "<div id=\"b1daae48-de89-47cc-abcc-c2f0ddd700e0\" style=\"height: 525px; width: 100%;\" class=\"plotly-graph-div\"></div><script type=\"text/javascript\">require([\"plotly\"], function(Plotly) { window.PLOTLYENV=window.PLOTLYENV || {};window.PLOTLYENV.BASE_URL=\"https://plot.ly\";Plotly.newPlot(\"b1daae48-de89-47cc-abcc-c2f0ddd700e0\", [{\"mode\": \"markers\", \"x\": [2, 3, 4, 0, 3], \"marker\": {\"size\": [16, 16, 24, 16, 24], \"sizemode\": \"diameter\"}, \"y\": [480.0, 202.13333333333333, 284.1666666666667, 400.26666666666665, 269.76666666666665], \"name\": \"wwu-alumni\", \"type\": \"scatter\"}, {\"mode\": \"markers\", \"x\": [8, 0, 2, 1, 2, 2, 0, 7, 0, 3, 7, 9, 5, 11, 2, 5, 12, 10, 5, 2, 2, 4, 1, 6, 9, 4, 1, 4, 0, 4, 0, 11, 4, 0, 11, 1, 10, 4, 12, 4], \"marker\": {\"size\": [16, 16, 16, 20, 24, 20, 16, 16, 16, 24, 24, 16, 24, 24, 20, 20, 16, 24, 16, 24, 24, 16, 16, 16, 20, 20, 16, 16, 24, 20, 16, 20, 20, 24, 24, 16, 16, 16, 20, 16], \"sizemode\": \"diameter\"}, \"y\": [275.9166666666667, 95.6, 209.23333333333332, 127.75, 153.41666666666666, 330.56666666666666, 66.53333333333333, 424.95, 46.38333333333333, 258.93333333333334, 374.76666666666665, 312.6333333333333, 310.43333333333334, 434.6333333333333, 213.43333333333334, 291.71666666666664, 480.0, 445.1166666666667, 312.8833333333333, 287.73333333333335, 581.7, 302.51666666666665, 185.83333333333334, 306.03333333333336, 358.1, 294.01666666666665, 74.9, 480.0, 272.93333333333334, 323.03333333333336, 58.81666666666667, 540.35, 297.26666666666665, 193.55, 480.9, 299.35, 381.5833333333333, 315.3833333333333, 484.6333333333333, 211.9], \"name\": \"open\", \"type\": \"scatter\"}, {\"mode\": \"markers\", \"x\": [0, 1, 4, 2, 7, 3, 2, 7, 4, 6, 1, 5, 6, 2, 2, 1, 6, 5, 5, 6, 3, 1, 6, 2, 1, 3.0, 3, 7, 7, 12, 3], \"marker\": {\"size\": [24, 24, 16, 20, 16, 16, 16, 20, 20, 16, 24, 16, 20, 24, 24, 24, 16, 16, 24, 16, 16, 20, 24, 24, 16, 20, 24, 16, 16, 16, 16], \"sizemode\": \"diameter\"}, \"y\": [136.0, 147.6, 387.3, 140.73333333333332, 480.0, 369.96666666666664, 131.6, 296.9166666666667, 331.46666666666664, 480.0, 177.5, 480.0, 248.8, 150.2, 171.68333333333334, 172.58333333333334, 263.21666666666664, 324.85, 368.71666666666664, 189.48333333333332, 480.0, 362.18333333333334, 349.0, 128.81666666666666, 169.48333333333332, 267.43333333333334, 176.26666666666668, 409.0, 331.0, 451.03333333333336, 233.91666666666666], \"name\": \"wwu-student\", \"type\": \"scatter\"}], {\"title\": \"Team scores (bubble size = team size)\", \"xaxis\": {\"title\": \"Hints Used\"}, \"yaxis\": {\"title\": \"Final Score (minutes)\"}, \"hovermode\": \"closest\"}, {\"showLink\": true, \"linkText\": \"Export to plot.ly\"})});</script>"
      ]
     },
     "metadata": {},
     "output_type": "display_data"
    }
   ],
   "source": [
    "# Plot team, sizes, hints used, and scores.\n",
    "team_data = defaultdict(lambda: {\n",
    "    'x': [],\n",
    "    'y': [],\n",
    "    'size': [],\n",
    "})\n",
    "\n",
    "for i, team in enumerate(teams):\n",
    "    division = team.get('division')\n",
    "    td = team_data[division]\n",
    "    td['x'].append(team['hints_used'])\n",
    "    td['y'].append(team['final_score'] / 60)\n",
    "    td['size'].append(team['size']*4)\n",
    "    \n",
    "team_traces = []\n",
    "for division, td in team_data.items():\n",
    "    team_traces.append(go.Scatter(\n",
    "        name = division,\n",
    "        x = td['x'],\n",
    "        y = td['y'],\n",
    "        mode = 'markers',\n",
    "        marker = dict(\n",
    "            sizemode = 'diameter',\n",
    "            size = td['size']\n",
    "        )\n",
    "    ))\n",
    "    \n",
    "layout = go.Layout(\n",
    "    title='Team scores (bubble size = team size)',\n",
    "    xaxis=dict(title='Hints Used'),\n",
    "    yaxis=dict(title='Final Score (minutes)'),\n",
    "    hovermode='closest',\n",
    ")\n",
    "fig = dict(data=team_traces, layout=layout)\n",
    "\n",
    "iplot(fig)"
   ]
  },
  {
   "cell_type": "code",
   "execution_count": 6,
   "metadata": {
    "scrolled": false
   },
   "outputs": [
    {
     "data": {
      "application/vnd.plotly.v1+json": {
       "data": [
        {
         "domain": {
          "x": [
           0,
           0.48
          ],
          "y": [
           0,
           1
          ]
         },
         "labels": [
          "No Hints",
          "Some Hints"
         ],
         "type": "pie",
         "values": [
          1,
          4
         ]
        },
        {
         "domain": {
          "x": [
           0.5,
           1
          ],
          "y": [
           0,
           1
          ]
         },
         "labels": [
          "No Timeouts",
          "Some Timeouts"
         ],
         "type": "pie",
         "values": [
          1,
          4
         ]
        }
       ],
       "layout": {
        "title": "wwu-alumni"
       }
      },
      "text/html": [
       "<div id=\"f51573c7-3252-412b-8d56-979214ddd6f4\" style=\"height: 525px; width: 100%;\" class=\"plotly-graph-div\"></div><script type=\"text/javascript\">require([\"plotly\"], function(Plotly) { window.PLOTLYENV=window.PLOTLYENV || {};window.PLOTLYENV.BASE_URL=\"https://plot.ly\";Plotly.newPlot(\"f51573c7-3252-412b-8d56-979214ddd6f4\", [{\"type\": \"pie\", \"domain\": {\"y\": [0, 1], \"x\": [0, 0.48]}, \"labels\": [\"No Hints\", \"Some Hints\"], \"values\": [1, 4]}, {\"type\": \"pie\", \"domain\": {\"y\": [0, 1], \"x\": [0.5, 1]}, \"labels\": [\"No Timeouts\", \"Some Timeouts\"], \"values\": [1, 4]}], {\"title\": \"wwu-alumni\"}, {\"showLink\": true, \"linkText\": \"Export to plot.ly\"})});</script>"
      ],
      "text/vnd.plotly.v1+html": [
       "<div id=\"f51573c7-3252-412b-8d56-979214ddd6f4\" style=\"height: 525px; width: 100%;\" class=\"plotly-graph-div\"></div><script type=\"text/javascript\">require([\"plotly\"], function(Plotly) { window.PLOTLYENV=window.PLOTLYENV || {};window.PLOTLYENV.BASE_URL=\"https://plot.ly\";Plotly.newPlot(\"f51573c7-3252-412b-8d56-979214ddd6f4\", [{\"type\": \"pie\", \"domain\": {\"y\": [0, 1], \"x\": [0, 0.48]}, \"labels\": [\"No Hints\", \"Some Hints\"], \"values\": [1, 4]}, {\"type\": \"pie\", \"domain\": {\"y\": [0, 1], \"x\": [0.5, 1]}, \"labels\": [\"No Timeouts\", \"Some Timeouts\"], \"values\": [1, 4]}], {\"title\": \"wwu-alumni\"}, {\"showLink\": true, \"linkText\": \"Export to plot.ly\"})});</script>"
      ]
     },
     "metadata": {},
     "output_type": "display_data"
    },
    {
     "data": {
      "application/vnd.plotly.v1+json": {
       "data": [
        {
         "domain": {
          "x": [
           0,
           0.48
          ],
          "y": [
           0,
           1
          ]
         },
         "labels": [
          "No Hints",
          "Some Hints"
         ],
         "type": "pie",
         "values": [
          6,
          34
         ]
        },
        {
         "domain": {
          "x": [
           0.5,
           1
          ],
          "y": [
           0,
           1
          ]
         },
         "labels": [
          "No Timeouts",
          "Some Timeouts"
         ],
         "type": "pie",
         "values": [
          8,
          32
         ]
        }
       ],
       "layout": {
        "title": "open"
       }
      },
      "text/html": [
       "<div id=\"50f4b8d1-b492-43e9-a67d-282781241907\" style=\"height: 525px; width: 100%;\" class=\"plotly-graph-div\"></div><script type=\"text/javascript\">require([\"plotly\"], function(Plotly) { window.PLOTLYENV=window.PLOTLYENV || {};window.PLOTLYENV.BASE_URL=\"https://plot.ly\";Plotly.newPlot(\"50f4b8d1-b492-43e9-a67d-282781241907\", [{\"type\": \"pie\", \"domain\": {\"y\": [0, 1], \"x\": [0, 0.48]}, \"labels\": [\"No Hints\", \"Some Hints\"], \"values\": [6, 34]}, {\"type\": \"pie\", \"domain\": {\"y\": [0, 1], \"x\": [0.5, 1]}, \"labels\": [\"No Timeouts\", \"Some Timeouts\"], \"values\": [8, 32]}], {\"title\": \"open\"}, {\"showLink\": true, \"linkText\": \"Export to plot.ly\"})});</script>"
      ],
      "text/vnd.plotly.v1+html": [
       "<div id=\"50f4b8d1-b492-43e9-a67d-282781241907\" style=\"height: 525px; width: 100%;\" class=\"plotly-graph-div\"></div><script type=\"text/javascript\">require([\"plotly\"], function(Plotly) { window.PLOTLYENV=window.PLOTLYENV || {};window.PLOTLYENV.BASE_URL=\"https://plot.ly\";Plotly.newPlot(\"50f4b8d1-b492-43e9-a67d-282781241907\", [{\"type\": \"pie\", \"domain\": {\"y\": [0, 1], \"x\": [0, 0.48]}, \"labels\": [\"No Hints\", \"Some Hints\"], \"values\": [6, 34]}, {\"type\": \"pie\", \"domain\": {\"y\": [0, 1], \"x\": [0.5, 1]}, \"labels\": [\"No Timeouts\", \"Some Timeouts\"], \"values\": [8, 32]}], {\"title\": \"open\"}, {\"showLink\": true, \"linkText\": \"Export to plot.ly\"})});</script>"
      ]
     },
     "metadata": {},
     "output_type": "display_data"
    },
    {
     "data": {
      "application/vnd.plotly.v1+json": {
       "data": [
        {
         "domain": {
          "x": [
           0,
           0.48
          ],
          "y": [
           0,
           1
          ]
         },
         "labels": [
          "No Hints",
          "Some Hints"
         ],
         "type": "pie",
         "values": [
          1,
          30
         ]
        },
        {
         "domain": {
          "x": [
           0.5,
           1
          ],
          "y": [
           0,
           1
          ]
         },
         "labels": [
          "No Timeouts",
          "Some Timeouts"
         ],
         "type": "pie",
         "values": [
          7,
          24
         ]
        }
       ],
       "layout": {
        "title": "wwu-student"
       }
      },
      "text/html": [
       "<div id=\"04cba619-9cb2-4053-b832-894f20d551d3\" style=\"height: 525px; width: 100%;\" class=\"plotly-graph-div\"></div><script type=\"text/javascript\">require([\"plotly\"], function(Plotly) { window.PLOTLYENV=window.PLOTLYENV || {};window.PLOTLYENV.BASE_URL=\"https://plot.ly\";Plotly.newPlot(\"04cba619-9cb2-4053-b832-894f20d551d3\", [{\"type\": \"pie\", \"domain\": {\"y\": [0, 1], \"x\": [0, 0.48]}, \"labels\": [\"No Hints\", \"Some Hints\"], \"values\": [1, 30]}, {\"type\": \"pie\", \"domain\": {\"y\": [0, 1], \"x\": [0.5, 1]}, \"labels\": [\"No Timeouts\", \"Some Timeouts\"], \"values\": [7, 24]}], {\"title\": \"wwu-student\"}, {\"showLink\": true, \"linkText\": \"Export to plot.ly\"})});</script>"
      ],
      "text/vnd.plotly.v1+html": [
       "<div id=\"04cba619-9cb2-4053-b832-894f20d551d3\" style=\"height: 525px; width: 100%;\" class=\"plotly-graph-div\"></div><script type=\"text/javascript\">require([\"plotly\"], function(Plotly) { window.PLOTLYENV=window.PLOTLYENV || {};window.PLOTLYENV.BASE_URL=\"https://plot.ly\";Plotly.newPlot(\"04cba619-9cb2-4053-b832-894f20d551d3\", [{\"type\": \"pie\", \"domain\": {\"y\": [0, 1], \"x\": [0, 0.48]}, \"labels\": [\"No Hints\", \"Some Hints\"], \"values\": [1, 30]}, {\"type\": \"pie\", \"domain\": {\"y\": [0, 1], \"x\": [0.5, 1]}, \"labels\": [\"No Timeouts\", \"Some Timeouts\"], \"values\": [7, 24]}], {\"title\": \"wwu-student\"}, {\"showLink\": true, \"linkText\": \"Export to plot.ly\"})});</script>"
      ]
     },
     "metadata": {},
     "output_type": "display_data"
    }
   ],
   "source": [
    "# Pie charts for completion with and without hints by division\n",
    "\n",
    "for division, div in counts.items():    \n",
    "    hint_labels = [\"No Hints\", \"Some Hints\"]\n",
    "    hint_values = [div['teams_with_no_hints'], div['teams_with_some_hints']]\n",
    "    hint_domain = { 'x': [0, .48], 'y': [0,1] }\n",
    "    \n",
    "    timeout_labels = [\"No Timeouts\", \"Some Timeouts\"]\n",
    "    timeout_values = [div['teams_with_no_timeouts'], div['teams_with_timeouts']]\n",
    "    timeout_domain = { 'x': [.5, 1], 'y': [0,1] }\n",
    "    \n",
    "    hint_trace = go.Pie(\n",
    "        labels=hint_labels,\n",
    "        values=hint_values,\n",
    "        domain=hint_domain\n",
    "    )\n",
    "    timeout_trace = go.Pie(\n",
    "        labels=timeout_labels, \n",
    "        values=timeout_values, \n",
    "        domain=timeout_domain\n",
    "    )\n",
    "    \n",
    "    layout = go.Layout(title=division)\n",
    "    fig = go.Figure(data=[hint_trace, timeout_trace], layout=layout)\n",
    "    iplot(fig)"
   ]
  },
  {
   "cell_type": "code",
   "execution_count": 7,
   "metadata": {
    "scrolled": false
   },
   "outputs": [
    {
     "ename": "NameError",
     "evalue": "name 'data' is not defined",
     "output_type": "error",
     "traceback": [
      "\u001b[0;31m---------------------------------------------------------------------------\u001b[0m",
      "\u001b[0;31mNameError\u001b[0m                                 Traceback (most recent call last)",
      "\u001b[0;32m<ipython-input-7-dfa060e13b72>\u001b[0m in \u001b[0;36m<module>\u001b[0;34m()\u001b[0m\n\u001b[1;32m     19\u001b[0m \u001b[0;34m\u001b[0m\u001b[0m\n\u001b[1;32m     20\u001b[0m )\n\u001b[0;32m---> 21\u001b[0;31m \u001b[0mfig\u001b[0m \u001b[0;34m=\u001b[0m \u001b[0mgo\u001b[0m\u001b[0;34m.\u001b[0m\u001b[0mFigure\u001b[0m\u001b[0;34m(\u001b[0m\u001b[0mdata\u001b[0m\u001b[0;34m=\u001b[0m\u001b[0mdata\u001b[0m\u001b[0;34m,\u001b[0m \u001b[0mlayout\u001b[0m\u001b[0;34m=\u001b[0m\u001b[0mlayout\u001b[0m\u001b[0;34m)\u001b[0m\u001b[0;34m\u001b[0m\u001b[0m\n\u001b[0m\u001b[1;32m     22\u001b[0m \u001b[0;34m\u001b[0m\u001b[0m\n\u001b[1;32m     23\u001b[0m \u001b[0miplot\u001b[0m\u001b[0;34m(\u001b[0m\u001b[0mfig\u001b[0m\u001b[0;34m)\u001b[0m\u001b[0;34m\u001b[0m\u001b[0m\n",
      "\u001b[0;31mNameError\u001b[0m: name 'data' is not defined"
     ]
    }
   ],
   "source": [
    "# Bar Chart for Hints Taken by division\n",
    "\n",
    "bar_chart_data = []\n",
    "\n",
    "for division, div in counts.items():\n",
    "    trace = go.Bar(\n",
    "        x=[num for num in range(13)],\n",
    "        y=[div['hints_used'][num] for num in range(13)],\n",
    "        name=division\n",
    "    )\n",
    "    \n",
    "    bar_chart_data.append(trace)\n",
    "    \n",
    "layout = go.Layout(\n",
    "    barmode='group',\n",
    "    title='Hints Taken by Division',\n",
    "    xaxis=dict(title=\"Number of hints taken\"),\n",
    "    yaxis=dict(title=\"Number of teams\")\n",
    "    \n",
    ")\n",
    "fig = go.Figure(data=data, layout=layout)\n",
    "\n",
    "iplot(fig)\n"
   ]
  },
  {
   "cell_type": "code",
   "execution_count": null,
   "metadata": {},
   "outputs": [],
   "source": [
    "# Print Raw Data \n",
    "print(json.dumps(counts, indent=2))"
   ]
  }
 ],
 "metadata": {
  "kernelspec": {
   "display_name": "Python 3",
   "language": "python",
   "name": "python3"
  },
  "language_info": {
   "codemirror_mode": {
    "name": "ipython",
    "version": 3
   },
   "file_extension": ".py",
   "mimetype": "text/x-python",
   "name": "python",
   "nbconvert_exporter": "python",
   "pygments_lexer": "ipython3",
   "version": "3.5.2"
  }
 },
 "nbformat": 4,
 "nbformat_minor": 2
}
