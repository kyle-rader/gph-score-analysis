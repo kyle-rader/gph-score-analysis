{
 "cells": [
  {
   "cell_type": "code",
   "execution_count": 53,
   "metadata": {
    "scrolled": true
   },
   "outputs": [],
   "source": [
    "import json\n",
    "from collections import defaultdict\n",
    "\n",
    "team_data_file = \"/data/teams.json\"\n",
    "puzzle_data_file = \"/data/puzzle-data.json\""
   ]
  },
  {
   "cell_type": "code",
   "execution_count": 54,
   "metadata": {},
   "outputs": [
    {
     "name": "stdout",
     "output_type": "stream",
     "text": [
      "Loaded data for 76 teams\n",
      "Loaded data for 4 puzzles\n"
     ]
    }
   ],
   "source": [
    "teams = None\n",
    "puzzles = None\n",
    "\n",
    "with open(team_data_file, 'r') as f:\n",
    "    teams = json.load(f)\n",
    "    \n",
    "with open(puzzle_data_file, 'r') as f:\n",
    "    puzzles = json.load(f)\n",
    "    \n",
    "print(\"Loaded data for {teams} teams\".format(teams=len(teams)))\n",
    "print(\"Loaded data for {puzzles} puzzles\".format(puzzles=len(puzzles)))"
   ]
  },
  {
   "cell_type": "code",
   "execution_count": 60,
   "metadata": {
    "scrolled": false
   },
   "outputs": [],
   "source": [
    "counts = defaultdict(lambda: {\n",
    "    'team_count': 0,\n",
    "    'teams_with_no_hints': 0,\n",
    "    'teams_with_some_hints': 0,\n",
    "    'teams_with_timeouts': 0,\n",
    "    'hints_used': defaultdict(lambda: 0)\n",
    "})\n",
    "\n",
    "for team in teams:\n",
    "    division = team.get('division')\n",
    "    hints_used = team.get('hints_used')\n",
    "    \n",
    "    counts[division]['team_count'] += 1\n",
    "    counts[division]['hints_used'][hints_used] += 1\n",
    "    \n",
    "    hint_count_key = 'teams_with_no_hints' if hints_used == 0 else 'teams_with_some_hints'\n",
    "    counts[division][hint_count_key] += 1\n",
    "    \n",
    "    if team.get('timeouts') > 0:\n",
    "        counts[division]['teams_with_timeouts'] += 1\n",
    "    \n",
    "\n",
    "for division in counts:\n",
    "    div = counts[division]\n",
    "    div['no_hints_percent'] = div['teams_with_no_hints'] / div['team_count']\n",
    "    div['hints_percent'] = div['teams_with_some_hints'] / div['team_count']\n",
    "    div['timeouts_percent'] = div['teams_with_timeouts'] / div['team_count']\n",
    "    div['teams_with_no_timeouts'] = div['team_count'] - div['teams_with_timeouts']\n",
    "    "
   ]
  },
  {
   "cell_type": "code",
   "execution_count": 61,
   "metadata": {},
   "outputs": [
    {
     "data": {
      "text/html": [
       "<script>requirejs.config({paths: { 'plotly': ['https://cdn.plot.ly/plotly-latest.min']},});if(!window.Plotly) {{require(['plotly'],function(plotly) {window.Plotly=plotly;});}}</script>"
      ],
      "text/vnd.plotly.v1+html": [
       "<script>requirejs.config({paths: { 'plotly': ['https://cdn.plot.ly/plotly-latest.min']},});if(!window.Plotly) {{require(['plotly'],function(plotly) {window.Plotly=plotly;});}}</script>"
      ]
     },
     "metadata": {},
     "output_type": "display_data"
    }
   ],
   "source": [
    "from plotly.offline import iplot, plot, init_notebook_mode\n",
    "import plotly.graph_objs as go\n",
    "init_notebook_mode(connected=True)"
   ]
  },
  {
   "cell_type": "code",
   "execution_count": 62,
   "metadata": {
    "scrolled": false
   },
   "outputs": [
    {
     "data": {
      "application/vnd.plotly.v1+json": {
       "data": [
        {
         "domain": {
          "x": [
           0,
           0.48
          ],
          "y": [
           0,
           1
          ]
         },
         "labels": [
          "No Hints",
          "Some Hints"
         ],
         "type": "pie",
         "values": [
          1,
          4
         ]
        },
        {
         "domain": {
          "x": [
           0.5,
           1
          ],
          "y": [
           0,
           1
          ]
         },
         "labels": [
          "No Timeouts",
          "Some Timeouts"
         ],
         "type": "pie",
         "values": [
          1,
          4
         ]
        }
       ],
       "layout": {
        "title": "wwu-alumni"
       }
      },
      "text/html": [
       "<div id=\"f0e834ec-1306-437e-9650-bf69d433a097\" style=\"height: 525px; width: 100%;\" class=\"plotly-graph-div\"></div><script type=\"text/javascript\">require([\"plotly\"], function(Plotly) { window.PLOTLYENV=window.PLOTLYENV || {};window.PLOTLYENV.BASE_URL=\"https://plot.ly\";Plotly.newPlot(\"f0e834ec-1306-437e-9650-bf69d433a097\", [{\"values\": [1, 4], \"domain\": {\"x\": [0, 0.48], \"y\": [0, 1]}, \"type\": \"pie\", \"labels\": [\"No Hints\", \"Some Hints\"]}, {\"values\": [1, 4], \"domain\": {\"x\": [0.5, 1], \"y\": [0, 1]}, \"type\": \"pie\", \"labels\": [\"No Timeouts\", \"Some Timeouts\"]}], {\"title\": \"wwu-alumni\"}, {\"showLink\": true, \"linkText\": \"Export to plot.ly\"})});</script>"
      ],
      "text/vnd.plotly.v1+html": [
       "<div id=\"f0e834ec-1306-437e-9650-bf69d433a097\" style=\"height: 525px; width: 100%;\" class=\"plotly-graph-div\"></div><script type=\"text/javascript\">require([\"plotly\"], function(Plotly) { window.PLOTLYENV=window.PLOTLYENV || {};window.PLOTLYENV.BASE_URL=\"https://plot.ly\";Plotly.newPlot(\"f0e834ec-1306-437e-9650-bf69d433a097\", [{\"values\": [1, 4], \"domain\": {\"x\": [0, 0.48], \"y\": [0, 1]}, \"type\": \"pie\", \"labels\": [\"No Hints\", \"Some Hints\"]}, {\"values\": [1, 4], \"domain\": {\"x\": [0.5, 1], \"y\": [0, 1]}, \"type\": \"pie\", \"labels\": [\"No Timeouts\", \"Some Timeouts\"]}], {\"title\": \"wwu-alumni\"}, {\"showLink\": true, \"linkText\": \"Export to plot.ly\"})});</script>"
      ]
     },
     "metadata": {},
     "output_type": "display_data"
    },
    {
     "data": {
      "application/vnd.plotly.v1+json": {
       "data": [
        {
         "domain": {
          "x": [
           0,
           0.48
          ],
          "y": [
           0,
           1
          ]
         },
         "labels": [
          "No Hints",
          "Some Hints"
         ],
         "type": "pie",
         "values": [
          6,
          34
         ]
        },
        {
         "domain": {
          "x": [
           0.5,
           1
          ],
          "y": [
           0,
           1
          ]
         },
         "labels": [
          "No Timeouts",
          "Some Timeouts"
         ],
         "type": "pie",
         "values": [
          8,
          32
         ]
        }
       ],
       "layout": {
        "title": "open"
       }
      },
      "text/html": [
       "<div id=\"4848f41a-1689-4f61-b66f-23caac86a41d\" style=\"height: 525px; width: 100%;\" class=\"plotly-graph-div\"></div><script type=\"text/javascript\">require([\"plotly\"], function(Plotly) { window.PLOTLYENV=window.PLOTLYENV || {};window.PLOTLYENV.BASE_URL=\"https://plot.ly\";Plotly.newPlot(\"4848f41a-1689-4f61-b66f-23caac86a41d\", [{\"values\": [6, 34], \"domain\": {\"x\": [0, 0.48], \"y\": [0, 1]}, \"type\": \"pie\", \"labels\": [\"No Hints\", \"Some Hints\"]}, {\"values\": [8, 32], \"domain\": {\"x\": [0.5, 1], \"y\": [0, 1]}, \"type\": \"pie\", \"labels\": [\"No Timeouts\", \"Some Timeouts\"]}], {\"title\": \"open\"}, {\"showLink\": true, \"linkText\": \"Export to plot.ly\"})});</script>"
      ],
      "text/vnd.plotly.v1+html": [
       "<div id=\"4848f41a-1689-4f61-b66f-23caac86a41d\" style=\"height: 525px; width: 100%;\" class=\"plotly-graph-div\"></div><script type=\"text/javascript\">require([\"plotly\"], function(Plotly) { window.PLOTLYENV=window.PLOTLYENV || {};window.PLOTLYENV.BASE_URL=\"https://plot.ly\";Plotly.newPlot(\"4848f41a-1689-4f61-b66f-23caac86a41d\", [{\"values\": [6, 34], \"domain\": {\"x\": [0, 0.48], \"y\": [0, 1]}, \"type\": \"pie\", \"labels\": [\"No Hints\", \"Some Hints\"]}, {\"values\": [8, 32], \"domain\": {\"x\": [0.5, 1], \"y\": [0, 1]}, \"type\": \"pie\", \"labels\": [\"No Timeouts\", \"Some Timeouts\"]}], {\"title\": \"open\"}, {\"showLink\": true, \"linkText\": \"Export to plot.ly\"})});</script>"
      ]
     },
     "metadata": {},
     "output_type": "display_data"
    },
    {
     "data": {
      "application/vnd.plotly.v1+json": {
       "data": [
        {
         "domain": {
          "x": [
           0,
           0.48
          ],
          "y": [
           0,
           1
          ]
         },
         "labels": [
          "No Hints",
          "Some Hints"
         ],
         "type": "pie",
         "values": [
          1,
          30
         ]
        },
        {
         "domain": {
          "x": [
           0.5,
           1
          ],
          "y": [
           0,
           1
          ]
         },
         "labels": [
          "No Timeouts",
          "Some Timeouts"
         ],
         "type": "pie",
         "values": [
          7,
          24
         ]
        }
       ],
       "layout": {
        "title": "wwu-student"
       }
      },
      "text/html": [
       "<div id=\"5509d48f-948c-4b32-8c44-d8e91f0335a6\" style=\"height: 525px; width: 100%;\" class=\"plotly-graph-div\"></div><script type=\"text/javascript\">require([\"plotly\"], function(Plotly) { window.PLOTLYENV=window.PLOTLYENV || {};window.PLOTLYENV.BASE_URL=\"https://plot.ly\";Plotly.newPlot(\"5509d48f-948c-4b32-8c44-d8e91f0335a6\", [{\"values\": [1, 30], \"domain\": {\"x\": [0, 0.48], \"y\": [0, 1]}, \"type\": \"pie\", \"labels\": [\"No Hints\", \"Some Hints\"]}, {\"values\": [7, 24], \"domain\": {\"x\": [0.5, 1], \"y\": [0, 1]}, \"type\": \"pie\", \"labels\": [\"No Timeouts\", \"Some Timeouts\"]}], {\"title\": \"wwu-student\"}, {\"showLink\": true, \"linkText\": \"Export to plot.ly\"})});</script>"
      ],
      "text/vnd.plotly.v1+html": [
       "<div id=\"5509d48f-948c-4b32-8c44-d8e91f0335a6\" style=\"height: 525px; width: 100%;\" class=\"plotly-graph-div\"></div><script type=\"text/javascript\">require([\"plotly\"], function(Plotly) { window.PLOTLYENV=window.PLOTLYENV || {};window.PLOTLYENV.BASE_URL=\"https://plot.ly\";Plotly.newPlot(\"5509d48f-948c-4b32-8c44-d8e91f0335a6\", [{\"values\": [1, 30], \"domain\": {\"x\": [0, 0.48], \"y\": [0, 1]}, \"type\": \"pie\", \"labels\": [\"No Hints\", \"Some Hints\"]}, {\"values\": [7, 24], \"domain\": {\"x\": [0.5, 1], \"y\": [0, 1]}, \"type\": \"pie\", \"labels\": [\"No Timeouts\", \"Some Timeouts\"]}], {\"title\": \"wwu-student\"}, {\"showLink\": true, \"linkText\": \"Export to plot.ly\"})});</script>"
      ]
     },
     "metadata": {},
     "output_type": "display_data"
    }
   ],
   "source": [
    "# Pie charts for completion with and without hints by division\n",
    "\n",
    "for division in counts:\n",
    "    div = counts[division]\n",
    "    \n",
    "    hint_labels = [\"No Hints\", \"Some Hints\"]\n",
    "    hint_values = [div['teams_with_no_hints'], div['teams_with_some_hints']]\n",
    "    hint_domain = { 'x': [0, .48], 'y': [0,1] }\n",
    "    \n",
    "    timeout_labels = [\"No Timeouts\", \"Some Timeouts\"]\n",
    "    timeout_values = [div['teams_with_no_timeouts'], div['teams_with_timeouts']]\n",
    "    timeout_domain = { 'x': [.5, 1], 'y': [0,1] }\n",
    "    \n",
    "    hint_trace = go.Pie(\n",
    "        labels=hint_labels,\n",
    "        values=hint_values,\n",
    "        domain=hint_domain\n",
    "    )\n",
    "    timeout_trace = go.Pie(\n",
    "        labels=timeout_labels, \n",
    "        values=timeout_values, \n",
    "        domain=timeout_domain\n",
    "    )\n",
    "    \n",
    "    layout = go.Layout(title=division)\n",
    "    fig = go.Figure(data=[hint_trace, timeout_trace], layout=layout)\n",
    "    iplot(fig)"
   ]
  },
  {
   "cell_type": "code",
   "execution_count": 63,
   "metadata": {
    "scrolled": false
   },
   "outputs": [
    {
     "data": {
      "application/vnd.plotly.v1+json": {
       "data": [
        {
         "name": "wwu-alumni",
         "type": "bar",
         "x": [
          0,
          1,
          2,
          3,
          4,
          5,
          6,
          7,
          8,
          9,
          10,
          11,
          12
         ],
         "y": [
          1,
          0,
          1,
          2,
          1,
          0,
          0,
          0,
          0,
          0,
          0,
          0,
          0
         ]
        },
        {
         "name": "open",
         "type": "bar",
         "x": [
          0,
          1,
          2,
          3,
          4,
          5,
          6,
          7,
          8,
          9,
          10,
          11,
          12
         ],
         "y": [
          6,
          4,
          6,
          1,
          7,
          3,
          1,
          2,
          1,
          2,
          2,
          3,
          2
         ]
        },
        {
         "name": "wwu-student",
         "type": "bar",
         "x": [
          0,
          1,
          2,
          3,
          4,
          5,
          6,
          7,
          8,
          9,
          10,
          11,
          12
         ],
         "y": [
          1,
          5,
          5,
          5,
          2,
          3,
          5,
          4,
          0,
          0,
          0,
          0,
          1
         ]
        }
       ],
       "layout": {
        "barmode": "group",
        "title": "Hints Taken by Division",
        "xaxis": {
         "title": "Number of hints taken"
        },
        "yaxis": {
         "title": "Number of teams"
        }
       }
      },
      "text/html": [
       "<div id=\"9eb4c777-8ab7-4755-b2a0-a21c4a258529\" style=\"height: 525px; width: 100%;\" class=\"plotly-graph-div\"></div><script type=\"text/javascript\">require([\"plotly\"], function(Plotly) { window.PLOTLYENV=window.PLOTLYENV || {};window.PLOTLYENV.BASE_URL=\"https://plot.ly\";Plotly.newPlot(\"9eb4c777-8ab7-4755-b2a0-a21c4a258529\", [{\"x\": [0, 1, 2, 3, 4, 5, 6, 7, 8, 9, 10, 11, 12], \"y\": [1, 0, 1, 2, 1, 0, 0, 0, 0, 0, 0, 0, 0], \"type\": \"bar\", \"name\": \"wwu-alumni\"}, {\"x\": [0, 1, 2, 3, 4, 5, 6, 7, 8, 9, 10, 11, 12], \"y\": [6, 4, 6, 1, 7, 3, 1, 2, 1, 2, 2, 3, 2], \"type\": \"bar\", \"name\": \"open\"}, {\"x\": [0, 1, 2, 3, 4, 5, 6, 7, 8, 9, 10, 11, 12], \"y\": [1, 5, 5, 5, 2, 3, 5, 4, 0, 0, 0, 0, 1], \"type\": \"bar\", \"name\": \"wwu-student\"}], {\"barmode\": \"group\", \"title\": \"Hints Taken by Division\", \"xaxis\": {\"title\": \"Number of hints taken\"}, \"yaxis\": {\"title\": \"Number of teams\"}}, {\"showLink\": true, \"linkText\": \"Export to plot.ly\"})});</script>"
      ],
      "text/vnd.plotly.v1+html": [
       "<div id=\"9eb4c777-8ab7-4755-b2a0-a21c4a258529\" style=\"height: 525px; width: 100%;\" class=\"plotly-graph-div\"></div><script type=\"text/javascript\">require([\"plotly\"], function(Plotly) { window.PLOTLYENV=window.PLOTLYENV || {};window.PLOTLYENV.BASE_URL=\"https://plot.ly\";Plotly.newPlot(\"9eb4c777-8ab7-4755-b2a0-a21c4a258529\", [{\"x\": [0, 1, 2, 3, 4, 5, 6, 7, 8, 9, 10, 11, 12], \"y\": [1, 0, 1, 2, 1, 0, 0, 0, 0, 0, 0, 0, 0], \"type\": \"bar\", \"name\": \"wwu-alumni\"}, {\"x\": [0, 1, 2, 3, 4, 5, 6, 7, 8, 9, 10, 11, 12], \"y\": [6, 4, 6, 1, 7, 3, 1, 2, 1, 2, 2, 3, 2], \"type\": \"bar\", \"name\": \"open\"}, {\"x\": [0, 1, 2, 3, 4, 5, 6, 7, 8, 9, 10, 11, 12], \"y\": [1, 5, 5, 5, 2, 3, 5, 4, 0, 0, 0, 0, 1], \"type\": \"bar\", \"name\": \"wwu-student\"}], {\"barmode\": \"group\", \"title\": \"Hints Taken by Division\", \"xaxis\": {\"title\": \"Number of hints taken\"}, \"yaxis\": {\"title\": \"Number of teams\"}}, {\"showLink\": true, \"linkText\": \"Export to plot.ly\"})});</script>"
      ]
     },
     "metadata": {},
     "output_type": "display_data"
    }
   ],
   "source": [
    "# Bar Chart for Hints Taken by division\n",
    "\n",
    "bar_chart_data = []\n",
    "\n",
    "for division in counts:\n",
    "    div = counts[division]\n",
    "    trace = go.Bar(\n",
    "        x=[num for num in range(13)],\n",
    "        y=[div['hints_used'][num] for num in range(13)],\n",
    "        name=division\n",
    "    )\n",
    "    \n",
    "    bar_chart_data.append(trace)\n",
    "    \n",
    "layout = go.Layout(\n",
    "    barmode='group',\n",
    "    title='Hints Taken by Division',\n",
    "    xaxis=dict(title=\"Number of hints taken\"),\n",
    "    yaxis=dict(title=\"Number of teams\")\n",
    "    \n",
    ")\n",
    "fig = go.Figure(data=data, layout=layout)\n",
    "\n",
    "iplot(fig)\n"
   ]
  },
  {
   "cell_type": "code",
   "execution_count": 65,
   "metadata": {},
   "outputs": [
    {
     "name": "stdout",
     "output_type": "stream",
     "text": [
      "{\n",
      "  \"wwu-alumni\": {\n",
      "    \"teams_with_timeouts\": 4,\n",
      "    \"hints_percent\": 0.8,\n",
      "    \"timeouts_percent\": 0.8,\n",
      "    \"teams_with_some_hints\": 4,\n",
      "    \"hints_used\": {\n",
      "      \"0\": 1,\n",
      "      \"1\": 0,\n",
      "      \"2\": 1,\n",
      "      \"3\": 2,\n",
      "      \"4\": 1,\n",
      "      \"5\": 0,\n",
      "      \"6\": 0,\n",
      "      \"7\": 0,\n",
      "      \"8\": 0,\n",
      "      \"9\": 0,\n",
      "      \"10\": 0,\n",
      "      \"11\": 0,\n",
      "      \"12\": 0\n",
      "    },\n",
      "    \"teams_with_no_timeouts\": 1,\n",
      "    \"teams_with_no_hints\": 1,\n",
      "    \"team_count\": 5,\n",
      "    \"no_hints_percent\": 0.2\n",
      "  },\n",
      "  \"open\": {\n",
      "    \"teams_with_timeouts\": 32,\n",
      "    \"hints_percent\": 0.85,\n",
      "    \"timeouts_percent\": 0.8,\n",
      "    \"teams_with_some_hints\": 34,\n",
      "    \"hints_used\": {\n",
      "      \"0\": 6,\n",
      "      \"1\": 4,\n",
      "      \"2\": 6,\n",
      "      \"3\": 1,\n",
      "      \"4\": 7,\n",
      "      \"5\": 3,\n",
      "      \"6\": 1,\n",
      "      \"7\": 2,\n",
      "      \"8\": 1,\n",
      "      \"9\": 2,\n",
      "      \"10\": 2,\n",
      "      \"11\": 3,\n",
      "      \"12\": 2\n",
      "    },\n",
      "    \"teams_with_no_timeouts\": 8,\n",
      "    \"teams_with_no_hints\": 6,\n",
      "    \"team_count\": 40,\n",
      "    \"no_hints_percent\": 0.15\n",
      "  },\n",
      "  \"wwu-student\": {\n",
      "    \"teams_with_timeouts\": 24,\n",
      "    \"hints_percent\": 0.967741935483871,\n",
      "    \"timeouts_percent\": 0.7741935483870968,\n",
      "    \"teams_with_some_hints\": 30,\n",
      "    \"hints_used\": {\n",
      "      \"0\": 1,\n",
      "      \"1\": 5,\n",
      "      \"2\": 5,\n",
      "      \"3\": 5,\n",
      "      \"4\": 2,\n",
      "      \"5\": 3,\n",
      "      \"6\": 5,\n",
      "      \"7\": 4,\n",
      "      \"8\": 0,\n",
      "      \"9\": 0,\n",
      "      \"10\": 0,\n",
      "      \"11\": 0,\n",
      "      \"12\": 1\n",
      "    },\n",
      "    \"teams_with_no_timeouts\": 7,\n",
      "    \"teams_with_no_hints\": 1,\n",
      "    \"team_count\": 31,\n",
      "    \"no_hints_percent\": 0.03225806451612903\n",
      "  }\n",
      "}\n"
     ]
    }
   ],
   "source": [
    "# Print Raw Data \n",
    "print(json.dumps(counts, indent=2))"
   ]
  }
 ],
 "metadata": {
  "kernelspec": {
   "display_name": "Python 3",
   "language": "python",
   "name": "python3"
  },
  "language_info": {
   "codemirror_mode": {
    "name": "ipython",
    "version": 3
   },
   "file_extension": ".py",
   "mimetype": "text/x-python",
   "name": "python",
   "nbconvert_exporter": "python",
   "pygments_lexer": "ipython3",
   "version": "3.5.2"
  }
 },
 "nbformat": 4,
 "nbformat_minor": 2
}
