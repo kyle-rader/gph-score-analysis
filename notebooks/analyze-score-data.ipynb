{
 "cells": [
  {
   "cell_type": "code",
   "execution_count": 1,
   "metadata": {
    "scrolled": true
   },
   "outputs": [],
   "source": [
    "import json\n",
    "from collections import defaultdict\n",
    "\n",
    "team_data_file = \"/data/teams.json\"\n",
    "puzzle_data_file = \"/data/puzzle-data.json\""
   ]
  },
  {
   "cell_type": "code",
   "execution_count": 2,
   "metadata": {},
   "outputs": [
    {
     "name": "stdout",
     "output_type": "stream",
     "text": [
      "Loaded data for 76 teams\n",
      "Loaded data for 4 puzzles\n"
     ]
    }
   ],
   "source": [
    "teams = None\n",
    "puzzles = None\n",
    "\n",
    "with open(team_data_file, 'r') as f:\n",
    "    teams = json.load(f)\n",
    "    \n",
    "with open(puzzle_data_file, 'r') as f:\n",
    "    puzzles = json.load(f)\n",
    "    \n",
    "print(\"Loaded data for {teams} teams\".format(teams=len(teams)))\n",
    "print(\"Loaded data for {puzzles} puzzles\".format(puzzles=len(puzzles)))"
   ]
  },
  {
   "cell_type": "code",
   "execution_count": 3,
   "metadata": {
    "scrolled": false
   },
   "outputs": [],
   "source": [
    "counts = defaultdict(lambda: {\n",
    "    'team_count': 0,\n",
    "    'teams_with_no_hints': 0,\n",
    "    'teams_with_some_hints': 0,\n",
    "    'teams_with_timeouts': 0,\n",
    "    'hints_used': defaultdict(lambda: 0)\n",
    "})\n",
    "\n",
    "for team in teams:\n",
    "    division = team.get('division')\n",
    "    hints_used = team.get('hints_used')\n",
    "    \n",
    "    counts[division]['team_count'] += 1\n",
    "    counts[division]['hints_used'][hints_used] += 1\n",
    "    \n",
    "    hint_count_key = 'teams_with_no_hints' if hints_used == 0 else 'teams_with_some_hints'\n",
    "    counts[division][hint_count_key] += 1\n",
    "    \n",
    "    if team.get('timeouts') > 0:\n",
    "        counts[division]['teams_with_timeouts'] += 1\n",
    "    \n",
    "\n",
    "for division in counts:\n",
    "    div = counts[division]\n",
    "    div['no_hints_percent'] = div['teams_with_no_hints'] / div['team_count']\n",
    "    div['hints_percent'] = div['teams_with_some_hints'] / div['team_count']\n",
    "    div['timeouts_percent'] = div['teams_with_timeouts'] / div['team_count']\n",
    "    div['teams_with_no_timeouts'] = div['team_count'] - div['teams_with_timeouts']\n",
    "    "
   ]
  },
  {
   "cell_type": "code",
   "execution_count": 4,
   "metadata": {},
   "outputs": [
    {
     "data": {
      "text/html": [
       "<script>requirejs.config({paths: { 'plotly': ['https://cdn.plot.ly/plotly-latest.min']},});if(!window.Plotly) {{require(['plotly'],function(plotly) {window.Plotly=plotly;});}}</script>"
      ],
      "text/vnd.plotly.v1+html": [
       "<script>requirejs.config({paths: { 'plotly': ['https://cdn.plot.ly/plotly-latest.min']},});if(!window.Plotly) {{require(['plotly'],function(plotly) {window.Plotly=plotly;});}}</script>"
      ]
     },
     "metadata": {},
     "output_type": "display_data"
    }
   ],
   "source": [
    "from plotly.offline import iplot, plot, init_notebook_mode\n",
    "import plotly.graph_objs as go\n",
    "init_notebook_mode(connected=True)"
   ]
  },
  {
   "cell_type": "code",
   "execution_count": 5,
   "metadata": {},
   "outputs": [
    {
     "data": {
      "application/vnd.plotly.v1+json": {
       "data": [
        {
         "marker": {
          "size": [
           24,
           24,
           16,
           20,
           16,
           16,
           16,
           20,
           20,
           16,
           24,
           16,
           20,
           24,
           24,
           24,
           16,
           16,
           24,
           16,
           16,
           20,
           24,
           24,
           16,
           20,
           24,
           16,
           16,
           16,
           16
          ],
          "sizemode": "diameter"
         },
         "mode": "markers",
         "name": "wwu-student",
         "type": "scatter",
         "x": [
          0,
          1,
          4,
          2,
          7,
          3,
          2,
          7,
          4,
          6,
          1,
          5,
          6,
          2,
          2,
          1,
          6,
          5,
          5,
          6,
          3,
          1,
          6,
          2,
          1,
          3,
          3,
          7,
          7,
          12,
          3
         ],
         "y": [
          136,
          147.6,
          387.3,
          140.73333333333332,
          480,
          369.96666666666664,
          131.6,
          296.9166666666667,
          331.46666666666664,
          480,
          177.5,
          480,
          248.8,
          150.2,
          171.68333333333334,
          172.58333333333334,
          263.21666666666664,
          324.85,
          368.71666666666664,
          189.48333333333332,
          480,
          362.18333333333334,
          349,
          128.81666666666666,
          169.48333333333332,
          267.43333333333334,
          176.26666666666668,
          409,
          331,
          451.03333333333336,
          233.91666666666666
         ]
        },
        {
         "marker": {
          "size": [
           16,
           16,
           24,
           16,
           24
          ],
          "sizemode": "diameter"
         },
         "mode": "markers",
         "name": "wwu-alumni",
         "type": "scatter",
         "x": [
          2,
          3,
          4,
          0,
          3
         ],
         "y": [
          480,
          202.13333333333333,
          284.1666666666667,
          400.26666666666665,
          269.76666666666665
         ]
        },
        {
         "marker": {
          "size": [
           16,
           16,
           16,
           20,
           24,
           20,
           16,
           16,
           16,
           24,
           24,
           16,
           24,
           24,
           20,
           20,
           16,
           24,
           16,
           24,
           24,
           16,
           16,
           16,
           20,
           20,
           16,
           16,
           24,
           20,
           16,
           20,
           20,
           24,
           24,
           16,
           16,
           16,
           20,
           16
          ],
          "sizemode": "diameter"
         },
         "mode": "markers",
         "name": "open",
         "type": "scatter",
         "x": [
          8,
          0,
          2,
          1,
          2,
          2,
          0,
          7,
          0,
          3,
          7,
          9,
          5,
          11,
          2,
          5,
          12,
          10,
          5,
          2,
          2,
          4,
          1,
          6,
          9,
          4,
          1,
          4,
          0,
          4,
          0,
          11,
          4,
          0,
          11,
          1,
          10,
          4,
          12,
          4
         ],
         "y": [
          275.9166666666667,
          95.6,
          209.23333333333332,
          127.75,
          153.41666666666666,
          330.56666666666666,
          66.53333333333333,
          424.95,
          46.38333333333333,
          258.93333333333334,
          374.76666666666665,
          312.6333333333333,
          310.43333333333334,
          434.6333333333333,
          213.43333333333334,
          291.71666666666664,
          480,
          445.1166666666667,
          312.8833333333333,
          287.73333333333335,
          581.7,
          302.51666666666665,
          185.83333333333334,
          306.03333333333336,
          358.1,
          294.01666666666665,
          74.9,
          480,
          272.93333333333334,
          323.03333333333336,
          58.81666666666667,
          540.35,
          297.26666666666665,
          193.55,
          480.9,
          299.35,
          381.5833333333333,
          315.3833333333333,
          484.6333333333333,
          211.9
         ]
        }
       ],
       "layout": {
        "hovermode": "closest",
        "title": "Team scores (bubble size = team size)",
        "xaxis": {
         "title": "Hints Used"
        },
        "yaxis": {
         "title": "Final Score (minutes)"
        }
       }
      },
      "text/html": [
       "<div id=\"931c252d-2ab1-48d4-a282-fe61544c959d\" style=\"height: 525px; width: 100%;\" class=\"plotly-graph-div\"></div><script type=\"text/javascript\">require([\"plotly\"], function(Plotly) { window.PLOTLYENV=window.PLOTLYENV || {};window.PLOTLYENV.BASE_URL=\"https://plot.ly\";Plotly.newPlot(\"931c252d-2ab1-48d4-a282-fe61544c959d\", [{\"type\": \"scatter\", \"name\": \"wwu-student\", \"y\": [136.0, 147.6, 387.3, 140.73333333333332, 480.0, 369.96666666666664, 131.6, 296.9166666666667, 331.46666666666664, 480.0, 177.5, 480.0, 248.8, 150.2, 171.68333333333334, 172.58333333333334, 263.21666666666664, 324.85, 368.71666666666664, 189.48333333333332, 480.0, 362.18333333333334, 349.0, 128.81666666666666, 169.48333333333332, 267.43333333333334, 176.26666666666668, 409.0, 331.0, 451.03333333333336, 233.91666666666666], \"mode\": \"markers\", \"marker\": {\"size\": [24, 24, 16, 20, 16, 16, 16, 20, 20, 16, 24, 16, 20, 24, 24, 24, 16, 16, 24, 16, 16, 20, 24, 24, 16, 20, 24, 16, 16, 16, 16], \"sizemode\": \"diameter\"}, \"x\": [0, 1, 4, 2, 7, 3, 2, 7, 4, 6, 1, 5, 6, 2, 2, 1, 6, 5, 5, 6, 3, 1, 6, 2, 1, 3.0, 3, 7, 7, 12, 3]}, {\"type\": \"scatter\", \"name\": \"wwu-alumni\", \"y\": [480.0, 202.13333333333333, 284.1666666666667, 400.26666666666665, 269.76666666666665], \"mode\": \"markers\", \"marker\": {\"size\": [16, 16, 24, 16, 24], \"sizemode\": \"diameter\"}, \"x\": [2, 3, 4, 0, 3]}, {\"type\": \"scatter\", \"name\": \"open\", \"y\": [275.9166666666667, 95.6, 209.23333333333332, 127.75, 153.41666666666666, 330.56666666666666, 66.53333333333333, 424.95, 46.38333333333333, 258.93333333333334, 374.76666666666665, 312.6333333333333, 310.43333333333334, 434.6333333333333, 213.43333333333334, 291.71666666666664, 480.0, 445.1166666666667, 312.8833333333333, 287.73333333333335, 581.7, 302.51666666666665, 185.83333333333334, 306.03333333333336, 358.1, 294.01666666666665, 74.9, 480.0, 272.93333333333334, 323.03333333333336, 58.81666666666667, 540.35, 297.26666666666665, 193.55, 480.9, 299.35, 381.5833333333333, 315.3833333333333, 484.6333333333333, 211.9], \"mode\": \"markers\", \"marker\": {\"size\": [16, 16, 16, 20, 24, 20, 16, 16, 16, 24, 24, 16, 24, 24, 20, 20, 16, 24, 16, 24, 24, 16, 16, 16, 20, 20, 16, 16, 24, 20, 16, 20, 20, 24, 24, 16, 16, 16, 20, 16], \"sizemode\": \"diameter\"}, \"x\": [8, 0, 2, 1, 2, 2, 0, 7, 0, 3, 7, 9, 5, 11, 2, 5, 12, 10, 5, 2, 2, 4, 1, 6, 9, 4, 1, 4, 0, 4, 0, 11, 4, 0, 11, 1, 10, 4, 12, 4]}], {\"hovermode\": \"closest\", \"xaxis\": {\"title\": \"Hints Used\"}, \"title\": \"Team scores (bubble size = team size)\", \"yaxis\": {\"title\": \"Final Score (minutes)\"}}, {\"showLink\": true, \"linkText\": \"Export to plot.ly\"})});</script>"
      ],
      "text/vnd.plotly.v1+html": [
       "<div id=\"931c252d-2ab1-48d4-a282-fe61544c959d\" style=\"height: 525px; width: 100%;\" class=\"plotly-graph-div\"></div><script type=\"text/javascript\">require([\"plotly\"], function(Plotly) { window.PLOTLYENV=window.PLOTLYENV || {};window.PLOTLYENV.BASE_URL=\"https://plot.ly\";Plotly.newPlot(\"931c252d-2ab1-48d4-a282-fe61544c959d\", [{\"type\": \"scatter\", \"name\": \"wwu-student\", \"y\": [136.0, 147.6, 387.3, 140.73333333333332, 480.0, 369.96666666666664, 131.6, 296.9166666666667, 331.46666666666664, 480.0, 177.5, 480.0, 248.8, 150.2, 171.68333333333334, 172.58333333333334, 263.21666666666664, 324.85, 368.71666666666664, 189.48333333333332, 480.0, 362.18333333333334, 349.0, 128.81666666666666, 169.48333333333332, 267.43333333333334, 176.26666666666668, 409.0, 331.0, 451.03333333333336, 233.91666666666666], \"mode\": \"markers\", \"marker\": {\"size\": [24, 24, 16, 20, 16, 16, 16, 20, 20, 16, 24, 16, 20, 24, 24, 24, 16, 16, 24, 16, 16, 20, 24, 24, 16, 20, 24, 16, 16, 16, 16], \"sizemode\": \"diameter\"}, \"x\": [0, 1, 4, 2, 7, 3, 2, 7, 4, 6, 1, 5, 6, 2, 2, 1, 6, 5, 5, 6, 3, 1, 6, 2, 1, 3.0, 3, 7, 7, 12, 3]}, {\"type\": \"scatter\", \"name\": \"wwu-alumni\", \"y\": [480.0, 202.13333333333333, 284.1666666666667, 400.26666666666665, 269.76666666666665], \"mode\": \"markers\", \"marker\": {\"size\": [16, 16, 24, 16, 24], \"sizemode\": \"diameter\"}, \"x\": [2, 3, 4, 0, 3]}, {\"type\": \"scatter\", \"name\": \"open\", \"y\": [275.9166666666667, 95.6, 209.23333333333332, 127.75, 153.41666666666666, 330.56666666666666, 66.53333333333333, 424.95, 46.38333333333333, 258.93333333333334, 374.76666666666665, 312.6333333333333, 310.43333333333334, 434.6333333333333, 213.43333333333334, 291.71666666666664, 480.0, 445.1166666666667, 312.8833333333333, 287.73333333333335, 581.7, 302.51666666666665, 185.83333333333334, 306.03333333333336, 358.1, 294.01666666666665, 74.9, 480.0, 272.93333333333334, 323.03333333333336, 58.81666666666667, 540.35, 297.26666666666665, 193.55, 480.9, 299.35, 381.5833333333333, 315.3833333333333, 484.6333333333333, 211.9], \"mode\": \"markers\", \"marker\": {\"size\": [16, 16, 16, 20, 24, 20, 16, 16, 16, 24, 24, 16, 24, 24, 20, 20, 16, 24, 16, 24, 24, 16, 16, 16, 20, 20, 16, 16, 24, 20, 16, 20, 20, 24, 24, 16, 16, 16, 20, 16], \"sizemode\": \"diameter\"}, \"x\": [8, 0, 2, 1, 2, 2, 0, 7, 0, 3, 7, 9, 5, 11, 2, 5, 12, 10, 5, 2, 2, 4, 1, 6, 9, 4, 1, 4, 0, 4, 0, 11, 4, 0, 11, 1, 10, 4, 12, 4]}], {\"hovermode\": \"closest\", \"xaxis\": {\"title\": \"Hints Used\"}, \"title\": \"Team scores (bubble size = team size)\", \"yaxis\": {\"title\": \"Final Score (minutes)\"}}, {\"showLink\": true, \"linkText\": \"Export to plot.ly\"})});</script>"
      ]
     },
     "metadata": {},
     "output_type": "display_data"
    }
   ],
   "source": [
    "# Plot team, sizes, hints used, and scores.\n",
    "team_data = defaultdict(lambda: {\n",
    "    'x': [],\n",
    "    'y': [],\n",
    "    'size': [],\n",
    "})\n",
    "\n",
    "for i, team in enumerate(teams):\n",
    "    division = team.get('division')\n",
    "    td = team_data[division]\n",
    "    td['x'].append(team['hints_used'])\n",
    "    td['y'].append(team['final_score'] / 60)\n",
    "    td['size'].append(team['size']*4)\n",
    "    \n",
    "team_traces = []\n",
    "for division, td in team_data.items():\n",
    "    team_traces.append(go.Scatter(\n",
    "        name = division,\n",
    "        x = td['x'],\n",
    "        y = td['y'],\n",
    "        mode = 'markers',\n",
    "        marker = dict(\n",
    "            sizemode = 'diameter',\n",
    "            size = td['size']\n",
    "        )\n",
    "    ))\n",
    "    \n",
    "layout = go.Layout(\n",
    "    title='Team scores (bubble size = team size)',\n",
    "    xaxis=dict(title='Hints Used'),\n",
    "    yaxis=dict(title='Final Score (minutes)'),\n",
    "    hovermode='closest',\n",
    ")\n",
    "fig = dict(data=team_traces, layout=layout)\n",
    "\n",
    "iplot(fig)"
   ]
  },
  {
   "cell_type": "code",
   "execution_count": 6,
   "metadata": {
    "scrolled": false
   },
   "outputs": [
    {
     "data": {
      "application/vnd.plotly.v1+json": {
       "data": [
        {
         "domain": {
          "x": [
           0,
           0.48
          ],
          "y": [
           0,
           1
          ]
         },
         "labels": [
          "No Hints",
          "Some Hints"
         ],
         "type": "pie",
         "values": [
          1,
          30
         ]
        },
        {
         "domain": {
          "x": [
           0.5,
           1
          ],
          "y": [
           0,
           1
          ]
         },
         "labels": [
          "No Timeouts",
          "Some Timeouts"
         ],
         "type": "pie",
         "values": [
          7,
          24
         ]
        }
       ],
       "layout": {
        "title": "wwu-student"
       }
      },
      "text/html": [
       "<div id=\"48dd2418-8730-4887-b44c-8ccce9660e55\" style=\"height: 525px; width: 100%;\" class=\"plotly-graph-div\"></div><script type=\"text/javascript\">require([\"plotly\"], function(Plotly) { window.PLOTLYENV=window.PLOTLYENV || {};window.PLOTLYENV.BASE_URL=\"https://plot.ly\";Plotly.newPlot(\"48dd2418-8730-4887-b44c-8ccce9660e55\", [{\"type\": \"pie\", \"domain\": {\"y\": [0, 1], \"x\": [0, 0.48]}, \"labels\": [\"No Hints\", \"Some Hints\"], \"values\": [1, 30]}, {\"type\": \"pie\", \"domain\": {\"y\": [0, 1], \"x\": [0.5, 1]}, \"labels\": [\"No Timeouts\", \"Some Timeouts\"], \"values\": [7, 24]}], {\"title\": \"wwu-student\"}, {\"showLink\": true, \"linkText\": \"Export to plot.ly\"})});</script>"
      ],
      "text/vnd.plotly.v1+html": [
       "<div id=\"48dd2418-8730-4887-b44c-8ccce9660e55\" style=\"height: 525px; width: 100%;\" class=\"plotly-graph-div\"></div><script type=\"text/javascript\">require([\"plotly\"], function(Plotly) { window.PLOTLYENV=window.PLOTLYENV || {};window.PLOTLYENV.BASE_URL=\"https://plot.ly\";Plotly.newPlot(\"48dd2418-8730-4887-b44c-8ccce9660e55\", [{\"type\": \"pie\", \"domain\": {\"y\": [0, 1], \"x\": [0, 0.48]}, \"labels\": [\"No Hints\", \"Some Hints\"], \"values\": [1, 30]}, {\"type\": \"pie\", \"domain\": {\"y\": [0, 1], \"x\": [0.5, 1]}, \"labels\": [\"No Timeouts\", \"Some Timeouts\"], \"values\": [7, 24]}], {\"title\": \"wwu-student\"}, {\"showLink\": true, \"linkText\": \"Export to plot.ly\"})});</script>"
      ]
     },
     "metadata": {},
     "output_type": "display_data"
    },
    {
     "data": {
      "application/vnd.plotly.v1+json": {
       "data": [
        {
         "domain": {
          "x": [
           0,
           0.48
          ],
          "y": [
           0,
           1
          ]
         },
         "labels": [
          "No Hints",
          "Some Hints"
         ],
         "type": "pie",
         "values": [
          1,
          4
         ]
        },
        {
         "domain": {
          "x": [
           0.5,
           1
          ],
          "y": [
           0,
           1
          ]
         },
         "labels": [
          "No Timeouts",
          "Some Timeouts"
         ],
         "type": "pie",
         "values": [
          1,
          4
         ]
        }
       ],
       "layout": {
        "title": "wwu-alumni"
       }
      },
      "text/html": [
       "<div id=\"ee4b7179-61dc-403b-b4df-a00dfcb022bd\" style=\"height: 525px; width: 100%;\" class=\"plotly-graph-div\"></div><script type=\"text/javascript\">require([\"plotly\"], function(Plotly) { window.PLOTLYENV=window.PLOTLYENV || {};window.PLOTLYENV.BASE_URL=\"https://plot.ly\";Plotly.newPlot(\"ee4b7179-61dc-403b-b4df-a00dfcb022bd\", [{\"type\": \"pie\", \"domain\": {\"y\": [0, 1], \"x\": [0, 0.48]}, \"labels\": [\"No Hints\", \"Some Hints\"], \"values\": [1, 4]}, {\"type\": \"pie\", \"domain\": {\"y\": [0, 1], \"x\": [0.5, 1]}, \"labels\": [\"No Timeouts\", \"Some Timeouts\"], \"values\": [1, 4]}], {\"title\": \"wwu-alumni\"}, {\"showLink\": true, \"linkText\": \"Export to plot.ly\"})});</script>"
      ],
      "text/vnd.plotly.v1+html": [
       "<div id=\"ee4b7179-61dc-403b-b4df-a00dfcb022bd\" style=\"height: 525px; width: 100%;\" class=\"plotly-graph-div\"></div><script type=\"text/javascript\">require([\"plotly\"], function(Plotly) { window.PLOTLYENV=window.PLOTLYENV || {};window.PLOTLYENV.BASE_URL=\"https://plot.ly\";Plotly.newPlot(\"ee4b7179-61dc-403b-b4df-a00dfcb022bd\", [{\"type\": \"pie\", \"domain\": {\"y\": [0, 1], \"x\": [0, 0.48]}, \"labels\": [\"No Hints\", \"Some Hints\"], \"values\": [1, 4]}, {\"type\": \"pie\", \"domain\": {\"y\": [0, 1], \"x\": [0.5, 1]}, \"labels\": [\"No Timeouts\", \"Some Timeouts\"], \"values\": [1, 4]}], {\"title\": \"wwu-alumni\"}, {\"showLink\": true, \"linkText\": \"Export to plot.ly\"})});</script>"
      ]
     },
     "metadata": {},
     "output_type": "display_data"
    },
    {
     "data": {
      "application/vnd.plotly.v1+json": {
       "data": [
        {
         "domain": {
          "x": [
           0,
           0.48
          ],
          "y": [
           0,
           1
          ]
         },
         "labels": [
          "No Hints",
          "Some Hints"
         ],
         "type": "pie",
         "values": [
          6,
          34
         ]
        },
        {
         "domain": {
          "x": [
           0.5,
           1
          ],
          "y": [
           0,
           1
          ]
         },
         "labels": [
          "No Timeouts",
          "Some Timeouts"
         ],
         "type": "pie",
         "values": [
          8,
          32
         ]
        }
       ],
       "layout": {
        "title": "open"
       }
      },
      "text/html": [
       "<div id=\"3bba6bef-6695-4cab-a31c-44bcd19a871a\" style=\"height: 525px; width: 100%;\" class=\"plotly-graph-div\"></div><script type=\"text/javascript\">require([\"plotly\"], function(Plotly) { window.PLOTLYENV=window.PLOTLYENV || {};window.PLOTLYENV.BASE_URL=\"https://plot.ly\";Plotly.newPlot(\"3bba6bef-6695-4cab-a31c-44bcd19a871a\", [{\"type\": \"pie\", \"domain\": {\"y\": [0, 1], \"x\": [0, 0.48]}, \"labels\": [\"No Hints\", \"Some Hints\"], \"values\": [6, 34]}, {\"type\": \"pie\", \"domain\": {\"y\": [0, 1], \"x\": [0.5, 1]}, \"labels\": [\"No Timeouts\", \"Some Timeouts\"], \"values\": [8, 32]}], {\"title\": \"open\"}, {\"showLink\": true, \"linkText\": \"Export to plot.ly\"})});</script>"
      ],
      "text/vnd.plotly.v1+html": [
       "<div id=\"3bba6bef-6695-4cab-a31c-44bcd19a871a\" style=\"height: 525px; width: 100%;\" class=\"plotly-graph-div\"></div><script type=\"text/javascript\">require([\"plotly\"], function(Plotly) { window.PLOTLYENV=window.PLOTLYENV || {};window.PLOTLYENV.BASE_URL=\"https://plot.ly\";Plotly.newPlot(\"3bba6bef-6695-4cab-a31c-44bcd19a871a\", [{\"type\": \"pie\", \"domain\": {\"y\": [0, 1], \"x\": [0, 0.48]}, \"labels\": [\"No Hints\", \"Some Hints\"], \"values\": [6, 34]}, {\"type\": \"pie\", \"domain\": {\"y\": [0, 1], \"x\": [0.5, 1]}, \"labels\": [\"No Timeouts\", \"Some Timeouts\"], \"values\": [8, 32]}], {\"title\": \"open\"}, {\"showLink\": true, \"linkText\": \"Export to plot.ly\"})});</script>"
      ]
     },
     "metadata": {},
     "output_type": "display_data"
    }
   ],
   "source": [
    "# Pie charts for completion with and without hints by division\n",
    "\n",
    "for division, div in counts.items():    \n",
    "    hint_labels = [\"No Hints\", \"Some Hints\"]\n",
    "    hint_values = [div['teams_with_no_hints'], div['teams_with_some_hints']]\n",
    "    hint_domain = { 'x': [0, .48], 'y': [0,1] }\n",
    "    \n",
    "    timeout_labels = [\"No Timeouts\", \"Some Timeouts\"]\n",
    "    timeout_values = [div['teams_with_no_timeouts'], div['teams_with_timeouts']]\n",
    "    timeout_domain = { 'x': [.5, 1], 'y': [0,1] }\n",
    "    \n",
    "    hint_trace = go.Pie(\n",
    "        labels=hint_labels,\n",
    "        values=hint_values,\n",
    "        domain=hint_domain\n",
    "    )\n",
    "    timeout_trace = go.Pie(\n",
    "        labels=timeout_labels, \n",
    "        values=timeout_values, \n",
    "        domain=timeout_domain\n",
    "    )\n",
    "    \n",
    "    layout = go.Layout(title=division)\n",
    "    fig = go.Figure(data=[hint_trace, timeout_trace], layout=layout)\n",
    "    iplot(fig)"
   ]
  },
  {
   "cell_type": "code",
   "execution_count": 7,
   "metadata": {
    "scrolled": false
   },
   "outputs": [
    {
     "data": {
      "application/vnd.plotly.v1+json": {
       "data": [
        {
         "name": "wwu-student",
         "type": "bar",
         "x": [
          0,
          1,
          2,
          3,
          4,
          5,
          6,
          7,
          8,
          9,
          10,
          11,
          12
         ],
         "y": [
          1,
          5,
          5,
          5,
          2,
          3,
          5,
          4,
          0,
          0,
          0,
          0,
          1
         ]
        },
        {
         "name": "wwu-alumni",
         "type": "bar",
         "x": [
          0,
          1,
          2,
          3,
          4,
          5,
          6,
          7,
          8,
          9,
          10,
          11,
          12
         ],
         "y": [
          1,
          0,
          1,
          2,
          1,
          0,
          0,
          0,
          0,
          0,
          0,
          0,
          0
         ]
        },
        {
         "name": "open",
         "type": "bar",
         "x": [
          0,
          1,
          2,
          3,
          4,
          5,
          6,
          7,
          8,
          9,
          10,
          11,
          12
         ],
         "y": [
          6,
          4,
          6,
          1,
          7,
          3,
          1,
          2,
          1,
          2,
          2,
          3,
          2
         ]
        }
       ],
       "layout": {
        "barmode": "group",
        "title": "Hints Taken by Division",
        "xaxis": {
         "title": "Number of hints taken"
        },
        "yaxis": {
         "title": "Number of teams"
        }
       }
      },
      "text/html": [
       "<div id=\"4b2e33f8-6264-46b9-8117-1df48c9c94fe\" style=\"height: 525px; width: 100%;\" class=\"plotly-graph-div\"></div><script type=\"text/javascript\">require([\"plotly\"], function(Plotly) { window.PLOTLYENV=window.PLOTLYENV || {};window.PLOTLYENV.BASE_URL=\"https://plot.ly\";Plotly.newPlot(\"4b2e33f8-6264-46b9-8117-1df48c9c94fe\", [{\"type\": \"bar\", \"name\": \"wwu-student\", \"y\": [1, 5, 5, 5, 2, 3, 5, 4, 0, 0, 0, 0, 1], \"x\": [0, 1, 2, 3, 4, 5, 6, 7, 8, 9, 10, 11, 12]}, {\"type\": \"bar\", \"name\": \"wwu-alumni\", \"y\": [1, 0, 1, 2, 1, 0, 0, 0, 0, 0, 0, 0, 0], \"x\": [0, 1, 2, 3, 4, 5, 6, 7, 8, 9, 10, 11, 12]}, {\"type\": \"bar\", \"name\": \"open\", \"y\": [6, 4, 6, 1, 7, 3, 1, 2, 1, 2, 2, 3, 2], \"x\": [0, 1, 2, 3, 4, 5, 6, 7, 8, 9, 10, 11, 12]}], {\"barmode\": \"group\", \"xaxis\": {\"title\": \"Number of hints taken\"}, \"title\": \"Hints Taken by Division\", \"yaxis\": {\"title\": \"Number of teams\"}}, {\"showLink\": true, \"linkText\": \"Export to plot.ly\"})});</script>"
      ],
      "text/vnd.plotly.v1+html": [
       "<div id=\"4b2e33f8-6264-46b9-8117-1df48c9c94fe\" style=\"height: 525px; width: 100%;\" class=\"plotly-graph-div\"></div><script type=\"text/javascript\">require([\"plotly\"], function(Plotly) { window.PLOTLYENV=window.PLOTLYENV || {};window.PLOTLYENV.BASE_URL=\"https://plot.ly\";Plotly.newPlot(\"4b2e33f8-6264-46b9-8117-1df48c9c94fe\", [{\"type\": \"bar\", \"name\": \"wwu-student\", \"y\": [1, 5, 5, 5, 2, 3, 5, 4, 0, 0, 0, 0, 1], \"x\": [0, 1, 2, 3, 4, 5, 6, 7, 8, 9, 10, 11, 12]}, {\"type\": \"bar\", \"name\": \"wwu-alumni\", \"y\": [1, 0, 1, 2, 1, 0, 0, 0, 0, 0, 0, 0, 0], \"x\": [0, 1, 2, 3, 4, 5, 6, 7, 8, 9, 10, 11, 12]}, {\"type\": \"bar\", \"name\": \"open\", \"y\": [6, 4, 6, 1, 7, 3, 1, 2, 1, 2, 2, 3, 2], \"x\": [0, 1, 2, 3, 4, 5, 6, 7, 8, 9, 10, 11, 12]}], {\"barmode\": \"group\", \"xaxis\": {\"title\": \"Number of hints taken\"}, \"title\": \"Hints Taken by Division\", \"yaxis\": {\"title\": \"Number of teams\"}}, {\"showLink\": true, \"linkText\": \"Export to plot.ly\"})});</script>"
      ]
     },
     "metadata": {},
     "output_type": "display_data"
    }
   ],
   "source": [
    "# Bar Chart for Hints Taken by division\n",
    "\n",
    "bar_chart_data = []\n",
    "\n",
    "for division, div in counts.items():\n",
    "    trace = go.Bar(\n",
    "        x=[num for num in range(13)],\n",
    "        y=[div['hints_used'][num] for num in range(13)],\n",
    "        name=division\n",
    "    )\n",
    "    \n",
    "    bar_chart_data.append(trace)\n",
    "    \n",
    "layout = go.Layout(\n",
    "    barmode='group',\n",
    "    title='Hints Taken by Division',\n",
    "    xaxis=dict(title=\"Number of hints taken\"),\n",
    "    yaxis=dict(title=\"Number of teams\")\n",
    "    \n",
    ")\n",
    "fig = go.Figure(data=bar_chart_data, layout=layout)\n",
    "\n",
    "iplot(fig)\n"
   ]
  },
  {
   "cell_type": "code",
   "execution_count": 8,
   "metadata": {},
   "outputs": [
    {
     "name": "stdout",
     "output_type": "stream",
     "text": [
      "{\n",
      "  \"wwu-student\": {\n",
      "    \"timeouts_percent\": 0.7741935483870968,\n",
      "    \"teams_with_timeouts\": 24,\n",
      "    \"hints_percent\": 0.967741935483871,\n",
      "    \"teams_with_no_hints\": 1,\n",
      "    \"teams_with_some_hints\": 30,\n",
      "    \"team_count\": 31,\n",
      "    \"hints_used\": {\n",
      "      \"0\": 1,\n",
      "      \"1\": 5,\n",
      "      \"2\": 5,\n",
      "      \"3\": 5,\n",
      "      \"4\": 2,\n",
      "      \"5\": 3,\n",
      "      \"6\": 5,\n",
      "      \"7\": 4,\n",
      "      \"8\": 0,\n",
      "      \"9\": 0,\n",
      "      \"10\": 0,\n",
      "      \"11\": 0,\n",
      "      \"12\": 1\n",
      "    },\n",
      "    \"teams_with_no_timeouts\": 7,\n",
      "    \"no_hints_percent\": 0.03225806451612903\n",
      "  },\n",
      "  \"wwu-alumni\": {\n",
      "    \"timeouts_percent\": 0.8,\n",
      "    \"teams_with_timeouts\": 4,\n",
      "    \"hints_percent\": 0.8,\n",
      "    \"teams_with_no_hints\": 1,\n",
      "    \"teams_with_some_hints\": 4,\n",
      "    \"team_count\": 5,\n",
      "    \"hints_used\": {\n",
      "      \"0\": 1,\n",
      "      \"1\": 0,\n",
      "      \"2\": 1,\n",
      "      \"3\": 2,\n",
      "      \"4\": 1,\n",
      "      \"5\": 0,\n",
      "      \"6\": 0,\n",
      "      \"7\": 0,\n",
      "      \"8\": 0,\n",
      "      \"9\": 0,\n",
      "      \"10\": 0,\n",
      "      \"11\": 0,\n",
      "      \"12\": 0\n",
      "    },\n",
      "    \"teams_with_no_timeouts\": 1,\n",
      "    \"no_hints_percent\": 0.2\n",
      "  },\n",
      "  \"open\": {\n",
      "    \"timeouts_percent\": 0.8,\n",
      "    \"teams_with_timeouts\": 32,\n",
      "    \"hints_percent\": 0.85,\n",
      "    \"teams_with_no_hints\": 6,\n",
      "    \"teams_with_some_hints\": 34,\n",
      "    \"team_count\": 40,\n",
      "    \"hints_used\": {\n",
      "      \"0\": 6,\n",
      "      \"1\": 4,\n",
      "      \"2\": 6,\n",
      "      \"3\": 1,\n",
      "      \"4\": 7,\n",
      "      \"5\": 3,\n",
      "      \"6\": 1,\n",
      "      \"7\": 2,\n",
      "      \"8\": 1,\n",
      "      \"9\": 2,\n",
      "      \"10\": 2,\n",
      "      \"11\": 3,\n",
      "      \"12\": 2\n",
      "    },\n",
      "    \"teams_with_no_timeouts\": 8,\n",
      "    \"no_hints_percent\": 0.15\n",
      "  }\n",
      "}\n"
     ]
    }
   ],
   "source": [
    "# Print Raw Data \n",
    "print(json.dumps(counts, indent=2))"
   ]
  }
 ],
 "metadata": {
  "kernelspec": {
   "display_name": "Python 3",
   "language": "python",
   "name": "python3"
  },
  "language_info": {
   "codemirror_mode": {
    "name": "ipython",
    "version": 3
   },
   "file_extension": ".py",
   "mimetype": "text/x-python",
   "name": "python",
   "nbconvert_exporter": "python",
   "pygments_lexer": "ipython3",
   "version": "3.5.2"
  }
 },
 "nbformat": 4,
 "nbformat_minor": 2
}
