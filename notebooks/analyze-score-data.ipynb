{
 "cells": [
  {
   "cell_type": "code",
   "execution_count": 1,
   "metadata": {
    "collapsed": true,
    "scrolled": true
   },
   "outputs": [],
   "source": [
    "import json\n",
    "from collections import defaultdict\n",
    "\n",
    "team_data_file = \"/data/teams.json\"\n",
    "puzzle_data_file = \"/data/puzzle-data.json\""
   ]
  },
  {
   "cell_type": "code",
   "execution_count": 2,
   "metadata": {
    "collapsed": true
   },
   "outputs": [],
   "source": [
    "teams = None\n",
    "puzzles = None\n",
    "\n",
    "with open(team_data_file, 'r') as f:\n",
    "    teams = json.load(f)\n",
    "    \n",
    "with open(puzzle_data_file, 'r') as f:\n",
    "    puzzles = json.load(f)"
   ]
  },
  {
   "cell_type": "code",
   "execution_count": 16,
   "metadata": {
    "scrolled": false
   },
   "outputs": [
    {
     "name": "stdout",
     "output_type": "stream",
     "text": [
      "{\n",
      "  \"open\": {\n",
      "    \"team_count\": 40,\n",
      "    \"hints_used\": {\n",
      "      \"0\": 6,\n",
      "      \"1\": 4,\n",
      "      \"2\": 6,\n",
      "      \"3\": 1,\n",
      "      \"4\": 7,\n",
      "      \"5\": 3,\n",
      "      \"6\": 1,\n",
      "      \"7\": 2,\n",
      "      \"8\": 1,\n",
      "      \"9\": 2,\n",
      "      \"10\": 2,\n",
      "      \"11\": 3,\n",
      "      \"12\": 2\n",
      "    },\n",
      "    \"timeouts_percent\": 0.8,\n",
      "    \"teams_with_no_hints\": 6,\n",
      "    \"no_hints_percent\": 0.15,\n",
      "    \"teams_with_some_hints\": 34,\n",
      "    \"teams_with_timeouts\": 32,\n",
      "    \"hints_percent\": 0.85\n",
      "  },\n",
      "  \"wwu-alumni\": {\n",
      "    \"team_count\": 5,\n",
      "    \"hints_used\": {\n",
      "      \"0\": 1,\n",
      "      \"2\": 1,\n",
      "      \"3\": 2,\n",
      "      \"4\": 1\n",
      "    },\n",
      "    \"timeouts_percent\": 0.8,\n",
      "    \"teams_with_no_hints\": 1,\n",
      "    \"no_hints_percent\": 0.2,\n",
      "    \"teams_with_some_hints\": 4,\n",
      "    \"teams_with_timeouts\": 4,\n",
      "    \"hints_percent\": 0.8\n",
      "  },\n",
      "  \"wwu-student\": {\n",
      "    \"team_count\": 31,\n",
      "    \"hints_used\": {\n",
      "      \"0\": 1,\n",
      "      \"1\": 5,\n",
      "      \"2\": 5,\n",
      "      \"3\": 5,\n",
      "      \"4\": 2,\n",
      "      \"5\": 3,\n",
      "      \"6\": 5,\n",
      "      \"7\": 4,\n",
      "      \"12\": 1\n",
      "    },\n",
      "    \"timeouts_percent\": 0.7741935483870968,\n",
      "    \"teams_with_no_hints\": 1,\n",
      "    \"no_hints_percent\": 0.03225806451612903,\n",
      "    \"teams_with_some_hints\": 30,\n",
      "    \"teams_with_timeouts\": 24,\n",
      "    \"hints_percent\": 0.967741935483871\n",
      "  }\n",
      "}\n"
     ]
    }
   ],
   "source": [
    "counts = defaultdict(lambda: {\n",
    "    'team_count': 0,\n",
    "    'teams_with_no_hints': 0,\n",
    "    'teams_with_some_hints': 0,\n",
    "    'teams_with_timeouts': 0,\n",
    "    'hints_used': defaultdict(lambda: 0)\n",
    "})\n",
    "\n",
    "for team in teams:\n",
    "    division = team.get('division')\n",
    "    hints_used = team.get('hints_used')\n",
    "    \n",
    "    counts[division]['team_count'] += 1\n",
    "    counts[division]['hints_used'][hints_used] += 1\n",
    "    \n",
    "    hint_count_key = 'teams_with_no_hints' if hints_used == 0 else 'teams_with_some_hints'\n",
    "    counts[division][hint_count_key] += 1\n",
    "    \n",
    "    if team.get('timeouts') > 0:\n",
    "        counts[division]['teams_with_timeouts'] += 1\n",
    "    \n",
    "\n",
    "for division in counts:\n",
    "    div = counts[division]\n",
    "    div['no_hints_percent'] = div['teams_with_no_hints'] / div['team_count']\n",
    "    div['hints_percent'] = div['teams_with_some_hints'] / div['team_count']\n",
    "    div['timeouts_percent'] = div['teams_with_timeouts'] / div['team_count']\n",
    "    \n",
    "print(json.dumps(counts, indent=2))\n",
    "\n"
   ]
  }
 ],
 "metadata": {
  "kernelspec": {
   "display_name": "Python 3",
   "language": "python",
   "name": "python3"
  },
  "language_info": {
   "codemirror_mode": {
    "name": "ipython",
    "version": 3
   },
   "file_extension": ".py",
   "mimetype": "text/x-python",
   "name": "python",
   "nbconvert_exporter": "python",
   "pygments_lexer": "ipython3",
   "version": "3.5.2"
  }
 },
 "nbformat": 4,
 "nbformat_minor": 2
}
